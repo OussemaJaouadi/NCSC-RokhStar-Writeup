{
 "cells": [
  {
   "attachments": {},
   "cell_type": "markdown",
   "metadata": {},
   "source": [
    "# Rokh Star"
   ]
  },
  {
   "attachments": {},
   "cell_type": "markdown",
   "metadata": {},
   "source": [
    "## Code analysis : \n",
    "\n",
    "Analysing the code we found that the only way to decode the flag is by finding the output of this function that overflows the stack\n",
    "```python\n",
    "@functools.cache\n",
    "def gen_function(i):\n",
    "    if i == 0: return 1\n",
    "    if i == 1: return 2\n",
    "    if i == 2: return 3\n",
    "    if i == 3: return 4\n",
    "    return -44574*gen_function(i-4) +5767*gen_function(i-3) + 427*gen_function(i-2) - 19*gen_function(i-1)\n",
    "```"
   ]
  },
  {
   "attachments": {},
   "cell_type": "markdown",
   "metadata": {},
   "source": [
    "We have to find a new way to find `gen_function(ITERS = int(6e7))` so we could get the key and decrypt the file <br>\n",
    "The function is a polynomial of degree 4, so we can use **Linear Algebra** to solve it <br>\n",
    "How ? Let's figure it out"
   ]
  },
  {
   "attachments": {},
   "cell_type": "markdown",
   "metadata": {},
   "source": [
    "## Define Matrice :\n",
    "\n",
    "Let's have $Y_{n}$ such :\n",
    "$$\n",
    "gen\\_function(n) = \n",
    "\\begin{pmatrix}\n",
    "1 & 0 & 0 & 0\\\\\n",
    "\\end{pmatrix} * Y_{n} \\begin{pmatrix}\n",
    "gen\\_function(n)\\\\ \n",
    "gen\\_function(n+1)\\\\\n",
    "gen\\_function(n+2)\\\\\n",
    "gen\\_function(n+3)\n",
    "\\end{pmatrix}\n",
    "$$\n",
    "\n",
    "So we have to write  $ Y_{n+1} = M * Y_{n} $  with :\n",
    "$$ \n",
    "M = \\begin{pmatrix}\n",
    "0 & 1 & 0 & 0\\\\ \n",
    "0 & 0 & 1 & 0\\\\\n",
    "0 & 0 & 0 & 1\\\\\n",
    "-44574 & 5767 & 427 & -19\n",
    "\\end{pmatrix}  \n",
    "$$\n",
    "\n",
    "#### Recursively :\n",
    "\n",
    "$$\n",
    "    Y_{n+1} = M * Y_{n}  = M * M * Y_{n-1} = ..... = M^{n+1} * Y_0 \n",
    "    \\begin{pmatrix}\n",
    "1\\\\ \n",
    "2\\\\\n",
    "3\\\\\n",
    "4\n",
    "\\end{pmatrix}\n",
    "$$\n",
    "#### Putting all together :\n",
    "$$ gen\\_function(n) = \n",
    "\\begin{pmatrix}\n",
    "1 & 0 & 0 & 0\\\\\n",
    "\\end{pmatrix} * M^{n} * Y_0\n",
    "$$"
   ]
  },
  {
   "attachments": {},
   "cell_type": "markdown",
   "metadata": {},
   "source": [
    "### But what ?\n",
    "\n",
    "Calculating $M^{n}$ is as hard and complex as calculating directely `gen_function(n)` so what to do with all that ?\n",
    "\n",
    "Although sageMath can calculate that rapidly, It is not a good solution for bigger matrices ."
   ]
  },
  {
   "attachments": {},
   "cell_type": "markdown",
   "metadata": {},
   "source": [
    "## This is why we use linear algebra : Diagonal Matrice\n",
    "\n",
    "Let's have a matrice \n",
    "$$\n",
    "M = P * D \\begin{pmatrix}\n",
    "\\alpha_1 & 0 & 0 & 0\\\\ \n",
    "0 & \\alpha_2 & 0 & 0\\\\\n",
    "0 & 0 & \\alpha_3 & 0\\\\\n",
    "0 & 0 & 0 & \\alpha_4\n",
    "\\end{pmatrix}   \n",
    "* P^{-1}\n",
    "$$\n",
    "So calculating  M would be easy since \n",
    "$$\n",
    "M^{n} = P * D^{n} \\begin{pmatrix}\n",
    "\\alpha_1^n & 0 & 0 & 0\\\\ \n",
    "0 & \\alpha_2^n & 0 & 0\\\\\n",
    "0 & 0 & \\alpha_3^n & 0\\\\\n",
    "0 & 0 & 0 & \\alpha_4^n\n",
    "\\end{pmatrix} * P^{-1}\n",
    "$$"
   ]
  },
  {
   "attachments": {},
   "cell_type": "markdown",
   "metadata": {},
   "source": [
    "#### Putting all together :\n",
    "$$ gen\\_function(n) = \n",
    "\\begin{pmatrix}\n",
    "1 & 0 & 0 & 0\\\\\n",
    "\\end{pmatrix} * P * D^{n} * P^{-1} * Y_0\n",
    "$$"
   ]
  },
  {
   "attachments": {},
   "cell_type": "markdown",
   "metadata": {},
   "source": [
    "## Let's Code :"
   ]
  },
  {
   "cell_type": "code",
   "execution_count": 1,
   "metadata": {},
   "outputs": [
    {
     "name": "stdout",
     "output_type": "stream",
     "text": [
      "gen_function(n) = 187*(-19)**n/450 - 63*(-23)**n/232 - 107*17**n/792 + 7904*6**n/7975\n"
     ]
    }
   ],
   "source": [
    "from sympy import *\n",
    "M=Matrix([[0, 1, 0, 0], [0, 0, 1, 0], [0, 0, 0, 1], [-44574, 5767, 427, -19]])\n",
    "P,D = M.diagonalize()\n",
    "Pi=P**-1\n",
    "L=Matrix([[1,0,0,0]])*P \n",
    "R=Pi*Matrix([[1],[2],[3],[4]])\n",
    "n = Symbol('n')\n",
    "f = (L * D**n * R)[0]\n",
    "print(f\"gen_function(n) = {f}\")\n"
   ]
  },
  {
   "attachments": {},
   "cell_type": "markdown",
   "metadata": {},
   "source": [
    "Let's get the GCD and make it more beautiful function"
   ]
  },
  {
   "cell_type": "code",
   "execution_count": 2,
   "metadata": {},
   "outputs": [
    {
     "name": "stdout",
     "output_type": "stream",
     "text": [
      "Formatted gen_function(n) = (238612*(-19)**n - 155925*(-23)**n - 77575*17**n + 569088*6**n) // 574200\n"
     ]
    }
   ],
   "source": [
    "g = 1/gcd(tuple(R))\n",
    "R = g*R\n",
    "newf = (L * D**n * R)[0]\n",
    "print(f'Formatted gen_function(n) = ({newf}) // {g}')"
   ]
  },
  {
   "attachments": {},
   "cell_type": "markdown",
   "metadata": {},
   "source": [
    "Finally we have to use `mpz(n)` for easier computation"
   ]
  },
  {
   "cell_type": "code",
   "execution_count": 3,
   "metadata": {},
   "outputs": [],
   "source": [
    "from gmpy2 import mpz\n",
    "def newFunction(n):\n",
    "    f = (238612*mpz(-19)**n - 155925*mpz(-23)**n - 77575*mpz(17)**n + 569088*mpz(6)**n) // 574200\n",
    "    return f\n"
   ]
  },
  {
   "cell_type": "code",
   "execution_count": 2,
   "metadata": {},
   "outputs": [
    {
     "name": "stdout",
     "output_type": "stream",
     "text": [
      "-39346683987984416804020351651\n"
     ]
    }
   ],
   "source": [
    "from gmpy2 import mpz\n",
    "ITERS = int(6e7)\n",
    "def newFunction(n):\n",
    "    f = (238612*mpz(-19)**n - 155925*mpz(-23)**n - 77575*mpz(17)**n + 569088*mpz(6)**n) // 574200\n",
    "    return f\n",
    "\n",
    "print(str(newFunction(ITERS))[:30])"
   ]
  },
  {
   "attachments": {},
   "cell_type": "markdown",
   "metadata": {},
   "source": [
    "## Get Function and put all together"
   ]
  },
  {
   "cell_type": "code",
   "execution_count": 2,
   "metadata": {},
   "outputs": [
    {
     "name": "stdout",
     "output_type": "stream",
     "text": [
      "b'Securinets{l1n3ar_aLGbr4_f0R_th3_WIN}'\n"
     ]
    }
   ],
   "source": [
    "from Crypto.Util.number import long_to_bytes\n",
    "from Crypto.Cipher import AES\n",
    "from Crypto.Util.Padding import unpad\n",
    "import hashlib\n",
    "import functools\n",
    "from gmpy2 import mpz\n",
    "\n",
    "ITERS = int(6e7)\n",
    "def xor(a:bytes,b:bytes):\n",
    "    s = b''\n",
    "    for (i,j) in zip(a,b):\n",
    "        s+=long_to_bytes(i^j)\n",
    "    return s\n",
    "def newFunction(n):\n",
    "    f = (238612*mpz(-19)**n - 155925*mpz(-23)**n - 77575*mpz(17)**n + 569088*mpz(6)**n) // 574200\n",
    "    return f\n",
    "\n",
    "\n",
    "def gen_key(k):\n",
    "    k = str(k)\n",
    "    k1,k2 = k[:len(k)//2],k[len(k)//2+1:]\n",
    "    k1 = hashlib.sha256(k1.encode()).digest()\n",
    "    k2 = hashlib.sha256(k2.encode()).digest()\n",
    "    k = xor(k1,k2)\n",
    "    return k[:16],k[16:]\n",
    "k = newFunction(ITERS)\n",
    "iv,k =gen_key(k)\n",
    "aes = AES.new(key=k,iv=iv,mode=AES.MODE_CBC)\n",
    "with open('out.txt','rb') as f :\n",
    "    enc = f.read()\n",
    "f.close()\n",
    "enc = aes.decrypt(enc)\n",
    "enc = unpad(enc,16)\n",
    "print(enc)"
   ]
  }
 ],
 "metadata": {
  "kernelspec": {
   "display_name": "Python 3",
   "language": "python",
   "name": "python3"
  },
  "language_info": {
   "codemirror_mode": {
    "name": "ipython",
    "version": 3
   },
   "file_extension": ".py",
   "mimetype": "text/x-python",
   "name": "python",
   "nbconvert_exporter": "python",
   "pygments_lexer": "ipython3",
   "version": "3.10.10"
  },
  "orig_nbformat": 4,
  "vscode": {
   "interpreter": {
    "hash": "40ca6923e9d7324ceb71afe172ec49a91e6da88725bf924d1e80661dcfb71bf9"
   }
  }
 },
 "nbformat": 4,
 "nbformat_minor": 2
}
